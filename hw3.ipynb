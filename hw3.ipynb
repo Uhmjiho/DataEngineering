{
 "cells": [
  {
   "cell_type": "code",
   "execution_count": 1,
   "id": "f7a31bf3-2ee5-4650-bc71-6f840bc87552",
   "metadata": {},
   "outputs": [],
   "source": [
    "hairstyles = [\"bouffant\", \"pixie\", \"dreadlocks\", \"crew\", \"bowl\", \"bob\", \"mohawk\", \"flattop\"]"
   ]
  },
  {
   "cell_type": "code",
   "execution_count": 2,
   "id": "e92d4cb8-e0a5-454c-ac4e-a5dc08fb927e",
   "metadata": {},
   "outputs": [],
   "source": [
    "prices = [30, 25, 40, 20, 20, 35, 50, 35]"
   ]
  },
  {
   "cell_type": "code",
   "execution_count": 3,
   "id": "7a5777fd-8280-4bf8-9ce5-bf06d5544e4d",
   "metadata": {},
   "outputs": [],
   "source": [
    "last_week = [2, 3, 5, 8, 4, 4, 6, 2]"
   ]
  },
  {
   "cell_type": "code",
   "execution_count": 8,
   "id": "6890acc2-bbdf-4aac-b98b-d2317c565e3c",
   "metadata": {},
   "outputs": [],
   "source": [
    "total_price = 0"
   ]
  },
  {
   "cell_type": "code",
   "execution_count": 7,
   "id": "cfc97f7a-b571-4bf0-9a87-6ab59d81f474",
   "metadata": {},
   "outputs": [],
   "source": [
    "for price in prices:\n",
    "    total_price += price\n",
    "average_price = total_price / len(prices)"
   ]
  },
  {
   "cell_type": "code",
   "execution_count": 9,
   "id": "f95b358f-f554-4bf2-8e9b-8c0f70d9403a",
   "metadata": {},
   "outputs": [
    {
     "name": "stdout",
     "output_type": "stream",
     "text": [
      "Average Haircut Price : 63.75\n"
     ]
    }
   ],
   "source": [
    "print(\"Average Haircut Price : \" + str(average_price))"
   ]
  },
  {
   "cell_type": "code",
   "execution_count": 10,
   "id": "fc55eb54-73a2-4f58-aae5-6d5e1b28e983",
   "metadata": {},
   "outputs": [],
   "source": [
    "new_prices = [price -5 for price in prices]"
   ]
  },
  {
   "cell_type": "code",
   "execution_count": 11,
   "id": "bb7c9d1b-4032-4a43-aba8-9c9df4e09bc6",
   "metadata": {},
   "outputs": [
    {
     "name": "stdout",
     "output_type": "stream",
     "text": [
      "[25, 20, 35, 15, 15, 30, 45, 30]\n"
     ]
    }
   ],
   "source": [
    "print(new_prices)"
   ]
  },
  {
   "cell_type": "code",
   "execution_count": 12,
   "id": "bb5997e9-a6e4-4a3a-b5b0-48c2cb1d4079",
   "metadata": {},
   "outputs": [],
   "source": [
    "total_revenue = 0"
   ]
  },
  {
   "cell_type": "code",
   "execution_count": 13,
   "id": "e8982a14-3309-4242-8196-d5c7a61c77d0",
   "metadata": {},
   "outputs": [],
   "source": [
    "for i in range(len(hairstyles)) :\n",
    "    total_revenue += prices[i] * last_week[i]"
   ]
  },
  {
   "cell_type": "code",
   "execution_count": 14,
   "id": "d2ba9789-a305-4028-8a32-39c9c93f1cd2",
   "metadata": {},
   "outputs": [],
   "source": [
    "total_revenue /= 7"
   ]
  },
  {
   "cell_type": "code",
   "execution_count": 15,
   "id": "c6ad0b8b-1ba4-4e39-ad61-545578c904bb",
   "metadata": {},
   "outputs": [
    {
     "name": "stdout",
     "output_type": "stream",
     "text": [
      "Average daily revenue is : 155.0\n"
     ]
    }
   ],
   "source": [
    "print(\"Average daily revenue is : \" + str(total_revenue))"
   ]
  },
  {
   "cell_type": "code",
   "execution_count": 16,
   "id": "a07566d3-7c54-4d46-8ebc-a9319d3b221e",
   "metadata": {},
   "outputs": [
    {
     "name": "stdout",
     "output_type": "stream",
     "text": [
      "['bouffant', 'pixie', 'crew', 'bowl']\n"
     ]
    }
   ],
   "source": [
    "cuts_under_30 = []\n",
    "for i in range(len(hairstyles)) :\n",
    "    if(new_prices[i] < 30) :\n",
    "        cuts_under_30.append(hairstyles[i])\n",
    "print(cuts_under_30)"
   ]
  },
  {
   "cell_type": "code",
   "execution_count": null,
   "id": "47e1644e-e417-4d73-8e9f-9a9d40fe12b2",
   "metadata": {},
   "outputs": [],
   "source": []
  }
 ],
 "metadata": {
  "kernelspec": {
   "display_name": "Python 3",
   "language": "python",
   "name": "python3"
  },
  "language_info": {
   "codemirror_mode": {
    "name": "ipython",
    "version": 3
   },
   "file_extension": ".py",
   "mimetype": "text/x-python",
   "name": "python",
   "nbconvert_exporter": "python",
   "pygments_lexer": "ipython3",
   "version": "3.8.8"
  }
 },
 "nbformat": 4,
 "nbformat_minor": 5
}
